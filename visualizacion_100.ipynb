{
  "cells": [
    {
      "cell_type": "markdown",
      "metadata": {
        "id": "view-in-github",
        "colab_type": "text"
      },
      "source": [
        "<a href=\"https://colab.research.google.com/github/BryanPP97/BryanPP97/blob/main/visualizacion_100.ipynb\" target=\"_parent\"><img src=\"https://colab.research.google.com/assets/colab-badge.svg\" alt=\"Open In Colab\"/></a>"
      ]
    },
    {
      "cell_type": "markdown",
      "source": [
        "# 1. Carga de librerías"
      ],
      "metadata": {
        "id": "oBmN3ddfyeeQ"
      }
    },
    {
      "cell_type": "code",
      "source": [
        "install.packages('tidyverse')\n",
        "library(tidyverse)"
      ],
      "metadata": {
        "colab": {
          "base_uri": "https://localhost:8080/"
        },
        "id": "srTs0NW-Q-OR",
        "outputId": "6bebd18b-6f10-4c11-e9c1-5368d5f97c41"
      },
      "execution_count": null,
      "outputs": [
        {
          "output_type": "stream",
          "name": "stderr",
          "text": [
            "Installing package into ‘/usr/local/lib/R/site-library’\n",
            "(as ‘lib’ is unspecified)\n",
            "\n"
          ]
        }
      ]
    },
    {
      "cell_type": "markdown",
      "source": [
        "# 2. Carga de datos"
      ],
      "metadata": {
        "id": "Ey4cKHIJyikP"
      }
    },
    {
      "cell_type": "code",
      "source": [
        "df <- read_csv(file = \"/content/-100.csv\")\n",
        "spec(df)\n",
        "class(df)\n",
        "head(df)"
      ],
      "metadata": {
        "id": "T6xEz_0eBcqp",
        "colab": {
          "base_uri": "https://localhost:8080/",
          "height": 1000
        },
        "outputId": "6cc7ed17-dc10-421d-d48a-b28c54dfefeb"
      },
      "execution_count": null,
      "outputs": [
        {
          "output_type": "stream",
          "name": "stderr",
          "text": [
            "\u001b[1mRows: \u001b[22m\u001b[34m248\u001b[39m \u001b[1mColumns: \u001b[22m\u001b[34m101\u001b[39m\n",
            "\u001b[36m──\u001b[39m \u001b[1mColumn specification\u001b[22m \u001b[36m────────────────────────────────────────────────────────\u001b[39m\n",
            "\u001b[1mDelimiter:\u001b[22m \",\"\n",
            "\u001b[31mchr\u001b[39m   (1): gene\n",
            "\u001b[32mdbl\u001b[39m (100): AE78_S41, AE39_S2, AF09_S71, AE57_S20, AF38_S100, AE56_S19, AF26_...\n",
            "\n",
            "\u001b[36mℹ\u001b[39m Use `spec()` to retrieve the full column specification for this data.\n",
            "\u001b[36mℹ\u001b[39m Specify the column types or set `show_col_types = FALSE` to quiet this message.\n"
          ]
        },
        {
          "output_type": "display_data",
          "data": {
            "text/plain": [
              "cols(\n",
              "  gene = \u001b[31mcol_character()\u001b[39m,\n",
              "  AE78_S41 = \u001b[32mcol_double()\u001b[39m,\n",
              "  AE39_S2 = \u001b[32mcol_double()\u001b[39m,\n",
              "  AF09_S71 = \u001b[32mcol_double()\u001b[39m,\n",
              "  AE57_S20 = \u001b[32mcol_double()\u001b[39m,\n",
              "  AF38_S100 = \u001b[32mcol_double()\u001b[39m,\n",
              "  AE56_S19 = \u001b[32mcol_double()\u001b[39m,\n",
              "  AF26_S88 = \u001b[32mcol_double()\u001b[39m,\n",
              "  AE94_S57 = \u001b[32mcol_double()\u001b[39m,\n",
              "  AE80_S43 = \u001b[32mcol_double()\u001b[39m,\n",
              "  AF22_S84 = \u001b[32mcol_double()\u001b[39m,\n",
              "  AF23_S85 = \u001b[32mcol_double()\u001b[39m,\n",
              "  AE40_S3 = \u001b[32mcol_double()\u001b[39m,\n",
              "  AF12_S74 = \u001b[32mcol_double()\u001b[39m,\n",
              "  AE65_S28 = \u001b[32mcol_double()\u001b[39m,\n",
              "  AF36_S98 = \u001b[32mcol_double()\u001b[39m,\n",
              "  AE58_S21 = \u001b[32mcol_double()\u001b[39m,\n",
              "  AF18_S80 = \u001b[32mcol_double()\u001b[39m,\n",
              "  AF15_S77 = \u001b[32mcol_double()\u001b[39m,\n",
              "  AE72_S35 = \u001b[32mcol_double()\u001b[39m,\n",
              "  AE52_S15 = \u001b[32mcol_double()\u001b[39m,\n",
              "  AE50_S13 = \u001b[32mcol_double()\u001b[39m,\n",
              "  AE54_S17 = \u001b[32mcol_double()\u001b[39m,\n",
              "  AE86_S49 = \u001b[32mcol_double()\u001b[39m,\n",
              "  AE97_S60 = \u001b[32mcol_double()\u001b[39m,\n",
              "  AF04_S66 = \u001b[32mcol_double()\u001b[39m,\n",
              "  AF27_S89 = \u001b[32mcol_double()\u001b[39m,\n",
              "  AE76_S39 = \u001b[32mcol_double()\u001b[39m,\n",
              "  AE89_S52 = \u001b[32mcol_double()\u001b[39m,\n",
              "  AF29_S91 = \u001b[32mcol_double()\u001b[39m,\n",
              "  AE62_S25 = \u001b[32mcol_double()\u001b[39m,\n",
              "  AF11_S73 = \u001b[32mcol_double()\u001b[39m,\n",
              "  AE43_S6 = \u001b[32mcol_double()\u001b[39m,\n",
              "  AF02_S64 = \u001b[32mcol_double()\u001b[39m,\n",
              "  AE41_S4 = \u001b[32mcol_double()\u001b[39m,\n",
              "  AE96_S59 = \u001b[32mcol_double()\u001b[39m,\n",
              "  AF37_S99 = \u001b[32mcol_double()\u001b[39m,\n",
              "  AE79_S42 = \u001b[32mcol_double()\u001b[39m,\n",
              "  AE85_S48 = \u001b[32mcol_double()\u001b[39m,\n",
              "  AE38_S1 = \u001b[32mcol_double()\u001b[39m,\n",
              "  AE61_S24 = \u001b[32mcol_double()\u001b[39m,\n",
              "  AF16_S78 = \u001b[32mcol_double()\u001b[39m,\n",
              "  AE74_S37 = \u001b[32mcol_double()\u001b[39m,\n",
              "  AF06_S68 = \u001b[32mcol_double()\u001b[39m,\n",
              "  AE47_S10 = \u001b[32mcol_double()\u001b[39m,\n",
              "  AF30_S92 = \u001b[32mcol_double()\u001b[39m,\n",
              "  AE46_S9 = \u001b[32mcol_double()\u001b[39m,\n",
              "  AF17_S79 = \u001b[32mcol_double()\u001b[39m,\n",
              "  AE68_S31 = \u001b[32mcol_double()\u001b[39m,\n",
              "  AF08_S70 = \u001b[32mcol_double()\u001b[39m,\n",
              "  AE87_S50 = \u001b[32mcol_double()\u001b[39m,\n",
              "  AE70_S33 = \u001b[32mcol_double()\u001b[39m,\n",
              "  AE82_S45 = \u001b[32mcol_double()\u001b[39m,\n",
              "  AF31_S93 = \u001b[32mcol_double()\u001b[39m,\n",
              "  AF34_S96 = \u001b[32mcol_double()\u001b[39m,\n",
              "  AF25_S87 = \u001b[32mcol_double()\u001b[39m,\n",
              "  AF01_S63 = \u001b[32mcol_double()\u001b[39m,\n",
              "  AF10_S72 = \u001b[32mcol_double()\u001b[39m,\n",
              "  AE67_S30 = \u001b[32mcol_double()\u001b[39m,\n",
              "  AE59_S22 = \u001b[32mcol_double()\u001b[39m,\n",
              "  AE45_S8 = \u001b[32mcol_double()\u001b[39m,\n",
              "  AE69_S32 = \u001b[32mcol_double()\u001b[39m,\n",
              "  AF33_S95 = \u001b[32mcol_double()\u001b[39m,\n",
              "  AE60_S23 = \u001b[32mcol_double()\u001b[39m,\n",
              "  AE51_S14 = \u001b[32mcol_double()\u001b[39m,\n",
              "  AE98_S61 = \u001b[32mcol_double()\u001b[39m,\n",
              "  AE63_S26 = \u001b[32mcol_double()\u001b[39m,\n",
              "  AE81_S44 = \u001b[32mcol_double()\u001b[39m,\n",
              "  AE71_S34 = \u001b[32mcol_double()\u001b[39m,\n",
              "  AF03_S65 = \u001b[32mcol_double()\u001b[39m,\n",
              "  AE95_S58 = \u001b[32mcol_double()\u001b[39m,\n",
              "  AE66_S29 = \u001b[32mcol_double()\u001b[39m,\n",
              "  AE88_S51 = \u001b[32mcol_double()\u001b[39m,\n",
              "  AE91_S54 = \u001b[32mcol_double()\u001b[39m,\n",
              "  AE93_S56 = \u001b[32mcol_double()\u001b[39m,\n",
              "  AE44_S7 = \u001b[32mcol_double()\u001b[39m,\n",
              "  AF19_S81 = \u001b[32mcol_double()\u001b[39m,\n",
              "  AE77_S40 = \u001b[32mcol_double()\u001b[39m,\n",
              "  AE53_S16 = \u001b[32mcol_double()\u001b[39m,\n",
              "  AE55_S18 = \u001b[32mcol_double()\u001b[39m,\n",
              "  AE84_S47 = \u001b[32mcol_double()\u001b[39m,\n",
              "  AE48_S11 = \u001b[32mcol_double()\u001b[39m,\n",
              "  AF32_S94 = \u001b[32mcol_double()\u001b[39m,\n",
              "  AE99_S62 = \u001b[32mcol_double()\u001b[39m,\n",
              "  AE73_S36 = \u001b[32mcol_double()\u001b[39m,\n",
              "  AE42_S5 = \u001b[32mcol_double()\u001b[39m,\n",
              "  AF13_S75 = \u001b[32mcol_double()\u001b[39m,\n",
              "  AF14_S76 = \u001b[32mcol_double()\u001b[39m,\n",
              "  AF07_S69 = \u001b[32mcol_double()\u001b[39m,\n",
              "  AE90_S53 = \u001b[32mcol_double()\u001b[39m,\n",
              "  AE92_S55 = \u001b[32mcol_double()\u001b[39m,\n",
              "  AE83_S46 = \u001b[32mcol_double()\u001b[39m,\n",
              "  AF35_S97 = \u001b[32mcol_double()\u001b[39m,\n",
              "  AF24_S86 = \u001b[32mcol_double()\u001b[39m,\n",
              "  AF20_S82 = \u001b[32mcol_double()\u001b[39m,\n",
              "  AF05_S67 = \u001b[32mcol_double()\u001b[39m,\n",
              "  AF21_S83 = \u001b[32mcol_double()\u001b[39m,\n",
              "  AE75_S38 = \u001b[32mcol_double()\u001b[39m,\n",
              "  AE49_S12 = \u001b[32mcol_double()\u001b[39m,\n",
              "  AE64_S27 = \u001b[32mcol_double()\u001b[39m,\n",
              "  AF28_S90 = \u001b[32mcol_double()\u001b[39m\n",
              ")"
            ]
          },
          "metadata": {}
        },
        {
          "output_type": "display_data",
          "data": {
            "text/html": [
              "<style>\n",
              ".list-inline {list-style: none; margin:0; padding: 0}\n",
              ".list-inline>li {display: inline-block}\n",
              ".list-inline>li:not(:last-child)::after {content: \"\\00b7\"; padding: 0 .5ex}\n",
              "</style>\n",
              "<ol class=list-inline><li>'spec_tbl_df'</li><li>'tbl_df'</li><li>'tbl'</li><li>'data.frame'</li></ol>\n"
            ],
            "text/markdown": "1. 'spec_tbl_df'\n2. 'tbl_df'\n3. 'tbl'\n4. 'data.frame'\n\n\n",
            "text/latex": "\\begin{enumerate*}\n\\item 'spec\\_tbl\\_df'\n\\item 'tbl\\_df'\n\\item 'tbl'\n\\item 'data.frame'\n\\end{enumerate*}\n",
            "text/plain": [
              "[1] \"spec_tbl_df\" \"tbl_df\"      \"tbl\"         \"data.frame\" "
            ]
          },
          "metadata": {}
        },
        {
          "output_type": "display_data",
          "data": {
            "text/html": [
              "<table class=\"dataframe\">\n",
              "<caption>A tibble: 6 × 101</caption>\n",
              "<thead>\n",
              "\t<tr><th scope=col>gene</th><th scope=col>AE78_S41</th><th scope=col>AE39_S2</th><th scope=col>AF09_S71</th><th scope=col>AE57_S20</th><th scope=col>AF38_S100</th><th scope=col>AE56_S19</th><th scope=col>AF26_S88</th><th scope=col>AE94_S57</th><th scope=col>AE80_S43</th><th scope=col>⋯</th><th scope=col>AE83_S46</th><th scope=col>AF35_S97</th><th scope=col>AF24_S86</th><th scope=col>AF20_S82</th><th scope=col>AF05_S67</th><th scope=col>AF21_S83</th><th scope=col>AE75_S38</th><th scope=col>AE49_S12</th><th scope=col>AE64_S27</th><th scope=col>AF28_S90</th></tr>\n",
              "\t<tr><th scope=col>&lt;chr&gt;</th><th scope=col>&lt;dbl&gt;</th><th scope=col>&lt;dbl&gt;</th><th scope=col>&lt;dbl&gt;</th><th scope=col>&lt;dbl&gt;</th><th scope=col>&lt;dbl&gt;</th><th scope=col>&lt;dbl&gt;</th><th scope=col>&lt;dbl&gt;</th><th scope=col>&lt;dbl&gt;</th><th scope=col>&lt;dbl&gt;</th><th scope=col>⋯</th><th scope=col>&lt;dbl&gt;</th><th scope=col>&lt;dbl&gt;</th><th scope=col>&lt;dbl&gt;</th><th scope=col>&lt;dbl&gt;</th><th scope=col>&lt;dbl&gt;</th><th scope=col>&lt;dbl&gt;</th><th scope=col>&lt;dbl&gt;</th><th scope=col>&lt;dbl&gt;</th><th scope=col>&lt;dbl&gt;</th><th scope=col>&lt;dbl&gt;</th></tr>\n",
              "</thead>\n",
              "<tbody>\n",
              "\t<tr><td>abeM</td><td>1</td><td>1</td><td>0</td><td>2</td><td>0</td><td>1</td><td>0</td><td>0</td><td>1</td><td>⋯</td><td>2</td><td>0</td><td>0</td><td>0</td><td>0</td><td>0</td><td>1</td><td>1</td><td>1</td><td>0</td></tr>\n",
              "\t<tr><td>abeS</td><td>2</td><td>2</td><td>0</td><td>2</td><td>0</td><td>2</td><td>0</td><td>0</td><td>2</td><td>⋯</td><td>2</td><td>0</td><td>0</td><td>0</td><td>0</td><td>0</td><td>2</td><td>2</td><td>2</td><td>0</td></tr>\n",
              "\t<tr><td>adeL</td><td>2</td><td>2</td><td>0</td><td>0</td><td>0</td><td>2</td><td>0</td><td>0</td><td>2</td><td>⋯</td><td>0</td><td>0</td><td>0</td><td>0</td><td>0</td><td>0</td><td>2</td><td>2</td><td>2</td><td>0</td></tr>\n",
              "\t<tr><td>adeG</td><td>2</td><td>2</td><td>0</td><td>1</td><td>0</td><td>2</td><td>0</td><td>0</td><td>2</td><td>⋯</td><td>1</td><td>0</td><td>0</td><td>0</td><td>0</td><td>0</td><td>2</td><td>2</td><td>2</td><td>0</td></tr>\n",
              "\t<tr><td>adeF</td><td>1</td><td>1</td><td>0</td><td>1</td><td>0</td><td>1</td><td>0</td><td>0</td><td>1</td><td>⋯</td><td>1</td><td>0</td><td>0</td><td>0</td><td>0</td><td>0</td><td>1</td><td>1</td><td>1</td><td>0</td></tr>\n",
              "\t<tr><td>adeH</td><td>1</td><td>1</td><td>0</td><td>1</td><td>0</td><td>1</td><td>0</td><td>0</td><td>1</td><td>⋯</td><td>1</td><td>0</td><td>0</td><td>0</td><td>0</td><td>0</td><td>1</td><td>1</td><td>1</td><td>0</td></tr>\n",
              "</tbody>\n",
              "</table>\n"
            ],
            "text/markdown": "\nA tibble: 6 × 101\n\n| gene &lt;chr&gt; | AE78_S41 &lt;dbl&gt; | AE39_S2 &lt;dbl&gt; | AF09_S71 &lt;dbl&gt; | AE57_S20 &lt;dbl&gt; | AF38_S100 &lt;dbl&gt; | AE56_S19 &lt;dbl&gt; | AF26_S88 &lt;dbl&gt; | AE94_S57 &lt;dbl&gt; | AE80_S43 &lt;dbl&gt; | ⋯ ⋯ | AE83_S46 &lt;dbl&gt; | AF35_S97 &lt;dbl&gt; | AF24_S86 &lt;dbl&gt; | AF20_S82 &lt;dbl&gt; | AF05_S67 &lt;dbl&gt; | AF21_S83 &lt;dbl&gt; | AE75_S38 &lt;dbl&gt; | AE49_S12 &lt;dbl&gt; | AE64_S27 &lt;dbl&gt; | AF28_S90 &lt;dbl&gt; |\n|---|---|---|---|---|---|---|---|---|---|---|---|---|---|---|---|---|---|---|---|---|\n| abeM | 1 | 1 | 0 | 2 | 0 | 1 | 0 | 0 | 1 | ⋯ | 2 | 0 | 0 | 0 | 0 | 0 | 1 | 1 | 1 | 0 |\n| abeS | 2 | 2 | 0 | 2 | 0 | 2 | 0 | 0 | 2 | ⋯ | 2 | 0 | 0 | 0 | 0 | 0 | 2 | 2 | 2 | 0 |\n| adeL | 2 | 2 | 0 | 0 | 0 | 2 | 0 | 0 | 2 | ⋯ | 0 | 0 | 0 | 0 | 0 | 0 | 2 | 2 | 2 | 0 |\n| adeG | 2 | 2 | 0 | 1 | 0 | 2 | 0 | 0 | 2 | ⋯ | 1 | 0 | 0 | 0 | 0 | 0 | 2 | 2 | 2 | 0 |\n| adeF | 1 | 1 | 0 | 1 | 0 | 1 | 0 | 0 | 1 | ⋯ | 1 | 0 | 0 | 0 | 0 | 0 | 1 | 1 | 1 | 0 |\n| adeH | 1 | 1 | 0 | 1 | 0 | 1 | 0 | 0 | 1 | ⋯ | 1 | 0 | 0 | 0 | 0 | 0 | 1 | 1 | 1 | 0 |\n\n",
            "text/latex": "A tibble: 6 × 101\n\\begin{tabular}{lllllllllllllllllllll}\n gene & AE78\\_S41 & AE39\\_S2 & AF09\\_S71 & AE57\\_S20 & AF38\\_S100 & AE56\\_S19 & AF26\\_S88 & AE94\\_S57 & AE80\\_S43 & ⋯ & AE83\\_S46 & AF35\\_S97 & AF24\\_S86 & AF20\\_S82 & AF05\\_S67 & AF21\\_S83 & AE75\\_S38 & AE49\\_S12 & AE64\\_S27 & AF28\\_S90\\\\\n <chr> & <dbl> & <dbl> & <dbl> & <dbl> & <dbl> & <dbl> & <dbl> & <dbl> & <dbl> & ⋯ & <dbl> & <dbl> & <dbl> & <dbl> & <dbl> & <dbl> & <dbl> & <dbl> & <dbl> & <dbl>\\\\\n\\hline\n\t abeM & 1 & 1 & 0 & 2 & 0 & 1 & 0 & 0 & 1 & ⋯ & 2 & 0 & 0 & 0 & 0 & 0 & 1 & 1 & 1 & 0\\\\\n\t abeS & 2 & 2 & 0 & 2 & 0 & 2 & 0 & 0 & 2 & ⋯ & 2 & 0 & 0 & 0 & 0 & 0 & 2 & 2 & 2 & 0\\\\\n\t adeL & 2 & 2 & 0 & 0 & 0 & 2 & 0 & 0 & 2 & ⋯ & 0 & 0 & 0 & 0 & 0 & 0 & 2 & 2 & 2 & 0\\\\\n\t adeG & 2 & 2 & 0 & 1 & 0 & 2 & 0 & 0 & 2 & ⋯ & 1 & 0 & 0 & 0 & 0 & 0 & 2 & 2 & 2 & 0\\\\\n\t adeF & 1 & 1 & 0 & 1 & 0 & 1 & 0 & 0 & 1 & ⋯ & 1 & 0 & 0 & 0 & 0 & 0 & 1 & 1 & 1 & 0\\\\\n\t adeH & 1 & 1 & 0 & 1 & 0 & 1 & 0 & 0 & 1 & ⋯ & 1 & 0 & 0 & 0 & 0 & 0 & 1 & 1 & 1 & 0\\\\\n\\end{tabular}\n",
            "text/plain": [
              "  gene AE78_S41 AE39_S2 AF09_S71 AE57_S20 AF38_S100 AE56_S19 AF26_S88 AE94_S57\n",
              "1 abeM 1        1       0        2        0         1        0        0       \n",
              "2 abeS 2        2       0        2        0         2        0        0       \n",
              "3 adeL 2        2       0        0        0         2        0        0       \n",
              "4 adeG 2        2       0        1        0         2        0        0       \n",
              "5 adeF 1        1       0        1        0         1        0        0       \n",
              "6 adeH 1        1       0        1        0         1        0        0       \n",
              "  AE80_S43 ⋯ AE83_S46 AF35_S97 AF24_S86 AF20_S82 AF05_S67 AF21_S83 AE75_S38\n",
              "1 1        ⋯ 2        0        0        0        0        0        1       \n",
              "2 2        ⋯ 2        0        0        0        0        0        2       \n",
              "3 2        ⋯ 0        0        0        0        0        0        2       \n",
              "4 2        ⋯ 1        0        0        0        0        0        2       \n",
              "5 1        ⋯ 1        0        0        0        0        0        1       \n",
              "6 1        ⋯ 1        0        0        0        0        0        1       \n",
              "  AE49_S12 AE64_S27 AF28_S90\n",
              "1 1        1        0       \n",
              "2 2        2        0       \n",
              "3 2        2        0       \n",
              "4 2        2        0       \n",
              "5 1        1        0       \n",
              "6 1        1        0       "
            ]
          },
          "metadata": {}
        }
      ]
    },
    {
      "cell_type": "markdown",
      "source": [
        "# 3. Reordenamiento"
      ],
      "metadata": {
        "id": "IKvwnZ3oyonQ"
      }
    },
    {
      "cell_type": "markdown",
      "source": [
        "##  value <= 2"
      ],
      "metadata": {
        "id": "zTmk8Lfk8ncV"
      }
    },
    {
      "cell_type": "code",
      "source": [
        "data1 <- df %>% \n",
        "  gather(key = 'sample', value = 'value', -gene) %>%\n",
        "  group_by(gene, sample) %>%\n",
        "  summarize(value = mean(value))"
      ],
      "metadata": {
        "colab": {
          "base_uri": "https://localhost:8080/"
        },
        "id": "XLC9u0Yr7TQT",
        "outputId": "04641e40-c194-4577-f9ed-6640051ae3ad"
      },
      "execution_count": null,
      "outputs": [
        {
          "output_type": "stream",
          "name": "stderr",
          "text": [
            "\u001b[1m\u001b[22m`summarise()` has grouped output by 'gene'. You can override using the\n",
            "`.groups` argument.\n"
          ]
        }
      ]
    },
    {
      "cell_type": "markdown",
      "source": [
        "## value >= 2"
      ],
      "metadata": {
        "id": "pnqM_-w08v81"
      }
    },
    {
      "cell_type": "code",
      "source": [
        "data2 <- df %>% \n",
        "  gather(key = 'sample', value = 'value', -gene) %>%\n",
        "  filter(value >= 2) %>%\n",
        "  group_by(gene, sample) %>%\n",
        "  summarize(value = mean(value))"
      ],
      "metadata": {
        "colab": {
          "base_uri": "https://localhost:8080/"
        },
        "id": "y6tiK65NB6EZ",
        "outputId": "06a868c1-5e0c-4703-c8e4-b0d5cbbffe53"
      },
      "execution_count": null,
      "outputs": [
        {
          "output_type": "stream",
          "name": "stderr",
          "text": [
            "\u001b[1m\u001b[22m`summarise()` has grouped output by 'gene'. You can override using the\n",
            "`.groups` argument.\n"
          ]
        }
      ]
    },
    {
      "cell_type": "markdown",
      "source": [
        "# 4. Visualización"
      ],
      "metadata": {
        "id": "Ub1-ZMhJzOOQ"
      }
    },
    {
      "cell_type": "markdown",
      "source": [
        "## Barplot"
      ],
      "metadata": {
        "id": "Wq6H76Cr9d_7"
      }
    },
    {
      "cell_type": "markdown",
      "source": [
        "### barplot value <= 2"
      ],
      "metadata": {
        "id": "6nwHLVHU48X1"
      }
    },
    {
      "cell_type": "code",
      "source": [
        "unob <- ggplot(data1, aes(x = sample, y = value ), fill= gene)+\n",
        "          geom_col()"
      ],
      "metadata": {
        "id": "VRet4DgpRC11"
      },
      "execution_count": null,
      "outputs": []
    },
    {
      "cell_type": "markdown",
      "source": [
        "### barplot value >= 2"
      ],
      "metadata": {
        "id": "NeLTzswP9jFk"
      }
    },
    {
      "cell_type": "code",
      "source": [
        "dosb <- ggplot(data2, aes(x = sample, y = value ), fill= gene)+\n",
        "  geom_col()"
      ],
      "metadata": {
        "id": "4JIs4ltQ9mTM"
      },
      "execution_count": null,
      "outputs": []
    },
    {
      "cell_type": "markdown",
      "source": [
        "## Heatmap"
      ],
      "metadata": {
        "id": "X5SWQEgh9sjU"
      }
    },
    {
      "cell_type": "markdown",
      "source": [
        "#### heatmap value <= 2"
      ],
      "metadata": {
        "id": "JSckqbv_4_Lx"
      }
    },
    {
      "cell_type": "code",
      "source": [
        "unoh <- ggplot(data1, aes( x = sample, y = gene, fill = value))+\n",
        "  geom_tile()+\n",
        "  scale_fill_gradient(low = 'white', high = 'red')"
      ],
      "metadata": {
        "id": "CD3-2s3n5BI8"
      },
      "execution_count": null,
      "outputs": []
    },
    {
      "cell_type": "code",
      "source": [
        "dosh <- ggplot(data2, aes( x = sample, y = gene, fill = value))+\n",
        "  geom_tile()+\n",
        "  scale_fill_gradient(low = 'white', high = 'red')"
      ],
      "metadata": {
        "id": "nrp6Px918K3N"
      },
      "execution_count": null,
      "outputs": []
    },
    {
      "cell_type": "markdown",
      "source": [
        "# 5. Descargar en pdf\n",
        "> Se guarda en /content"
      ],
      "metadata": {
        "id": "FiprJGRGAIbP"
      }
    },
    {
      "cell_type": "code",
      "source": [
        "ggsave(unob, filename = 'barplot1.pdf', width = 10, height = 8)\n",
        "ggsave(dosb, filename = 'barplot2.pdf', width = 10, height = 8)\n",
        "ggsave(unoh, filename = 'heatmap1.pdf', width = 10, height = 8)\n",
        "ggsave(dosh, filename = 'heatmap2.pdf', width = 10, height = 8)"
      ],
      "metadata": {
        "id": "kj-uF2-q_p2l"
      },
      "execution_count": null,
      "outputs": []
    }
  ],
  "metadata": {
    "colab": {
      "collapsed_sections": [],
      "provenance": [],
      "include_colab_link": true
    },
    "kernelspec": {
      "display_name": "R",
      "name": "ir"
    }
  },
  "nbformat": 4,
  "nbformat_minor": 0
}